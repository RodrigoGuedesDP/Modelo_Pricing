{
  "nbformat": 4,
  "nbformat_minor": 0,
  "metadata": {
    "colab": {
      "provenance": [],
      "authorship_tag": "ABX9TyPxkPJ7pHmJPPGGOdsAGo03",
      "include_colab_link": true
    },
    "kernelspec": {
      "name": "python3",
      "display_name": "Python 3"
    },
    "language_info": {
      "name": "python"
    }
  },
  "cells": [
    {
      "cell_type": "markdown",
      "metadata": {
        "id": "view-in-github",
        "colab_type": "text"
      },
      "source": [
        "<a href=\"https://colab.research.google.com/github/RodrigoGuedesDP/Modelo_Pricing/blob/main/Modelo__LightGBM_Inmobiliaria.ipynb\" target=\"_parent\"><img src=\"https://colab.research.google.com/assets/colab-badge.svg\" alt=\"Open In Colab\"/></a>"
      ]
    },
    {
      "cell_type": "code",
      "execution_count": null,
      "metadata": {
        "id": "9sSh6uWsjR2z"
      },
      "outputs": [],
      "source": [
        "import pandas as pd\n",
        "import joblib\n",
        "import lightgbm as lgb # Necesita tener lightgbm instalado (pip install lightgbm)\n",
        "\n",
        "print(\"--- CARGANDO ARTEFACTOS DEL MODELO ---\")\n",
        "try:\n",
        "\n",
        "    model = joblib.load('modelo_velocidad_venta.joblib')\n",
        "    model_columns = joblib.load('model_columns.joblib')\n",
        "    categorical_info = joblib.load('categorical_info.joblib')\n",
        "    print(\"✅ Modelo y artefactos cargados exitosamente.\")\n",
        "except FileNotFoundError:\n",
        "    print(\"⚠️ Error: Asegúrate de que los 3 archivos .joblib estén en la misma carpeta que este script.\")\n",
        "    exit()\n",
        "\n",
        "\n",
        "def predecir_velocidad_venta(datos_departamento):\n",
        "    \"\"\"\n",
        "    Predice la velocidad de venta para un nuevo departamento.\n",
        "    'datos_departamento' debe ser un diccionario de Python.\n",
        "    \"\"\"\n",
        "    # Crear un DataFrame de una sola fila a partir del diccionario\n",
        "    df_pred = pd.DataFrame([datos_departamento])\n",
        "\n",
        "    # Asegurar que el DataFrame tenga todas las columnas que el modelo espera, en el orden correcto\n",
        "    # y con valores nulos para las que no se especificaron.\n",
        "    df_pred = df_pred.reindex(columns=model_columns)\n",
        "\n",
        "    # Convertir las columnas categóricas al tipo 'category' con las categorías correctas\n",
        "    for col, categories in categorical_info.items():\n",
        "        # Usamos pd.Categorical para asegurar que el tipo de dato sea el correcto\n",
        "        df_pred[col] = pd.Categorical(df_pred[col], categories=categories)\n",
        "\n",
        "    # Realizar la predicción\n",
        "    prediccion = model.predict(df_pred)\n",
        "    return prediccion[0]\n",
        "\n",
        "\n",
        "# --- EJEMPLO DE USO ---\n",
        "if __name__ == \"__main__\":\n",
        "    print(\"\\n--- EJEMPLO DE PREDICCIÓN ---\")\n",
        "\n",
        "    # Tu compañero debe llenar las características del departamento que quiere evaluar.\n",
        "    # Para las columnas categóricas, debe usar los códigos anónimos.\n",
        "    # Puede ver las opciones disponibles en el archivo 'categorical_info.joblib' (si decides compartirlo)\n",
        "    # o puedes darle una lista de las opciones más comunes.\n",
        "    departamento_a_evaluar = {\n",
        "        'Inmobiliaria': 'Inmobiliaria_5', # Código anónimo\n",
        "        'Tipología': 'TIPO A',\n",
        "        'Distrito': 'Miraflores',\n",
        "        'Fase_de_Proyecto': 'En Planos',\n",
        "        'Ratio_Cocheras': 1.5,\n",
        "        'Cantidad_de_Unidades_Totales': 120,\n",
        "        'Latitud': -12.12,\n",
        "        'Longitud': -77.03,\n",
        "        'Cantidad_Total_de_Estacionamientos': 180,\n",
        "        'Cantidad_de_Depósitos': 100,\n",
        "        'Id_Inmobiliaria': 5, # Código anónimo\n",
        "        'Cantidad_de_Pisos': 15,\n",
        "        'Precio_de_Lista': 250000\n",
        "        # No es necesario llenar todas las columnas, las faltantes se tratarán como nulas\n",
        "    }\n",
        "\n",
        "    velocidad_estimada = predecir_velocidad_venta(departamento_a_evaluar)\n",
        "\n",
        "    print(f\"\\nDatos del departamento a evaluar:\")\n",
        "    for key, value in departamento_a_evaluar.items():\n",
        "        print(f\"  - {key}: {value}\")\n",
        "\n",
        "    print(f\"\\n🚀 Velocidad de Venta Estimada: {velocidad_estimada:.4f}\")\n",
        "\n",
        "    # También puede ver la importancia de las features (con nombres anonimizados)\n",
        "    print(\"\\n--- ANÁLISIS: IMPORTANCIA DE CARACTERÍSTICAS ---\")\n",
        "    lgb.plot_importance(model, max_num_features=20, figsize=(10, 8))\n",
        "    import matplotlib.pyplot as plt\n",
        "    plt.title(\"Importancia de Características (Datos Anonimizados)\")\n",
        "    plt.show()"
      ]
    }
  ]
}